{
 "cells": [
  {
   "cell_type": "markdown",
   "id": "5627d3aa",
   "metadata": {},
   "source": [
    "### Version Check"
   ]
  },
  {
   "cell_type": "code",
   "execution_count": 1,
   "id": "db5b2f48",
   "metadata": {},
   "outputs": [
    {
     "name": "stdout",
     "output_type": "stream",
     "text": [
      "Tensorflow Version: 2.0.0\n",
      "Keras Version: 2.2.4-tf\n"
     ]
    }
   ],
   "source": [
    "import tensorflow as tf\n",
    "print(\"Tensorflow Version: {}\".format(tf.__version__))\n",
    "print(\"Keras Version: {}\".format(tf.keras.__version__))"
   ]
  },
  {
   "cell_type": "markdown",
   "id": "e1cbfe5e",
   "metadata": {},
   "source": [
    "Eager Execution is by default in Tensorflow 2.0 and, it need no special setup. The Following below code used to find out whether a CPU or GPU is in use."
   ]
  },
  {
   "cell_type": "markdown",
   "id": "6329fa1e",
   "metadata": {},
   "source": [
    "### GPU/CPU Check"
   ]
  },
  {
   "cell_type": "code",
   "execution_count": 2,
   "id": "20a8f0d8",
   "metadata": {},
   "outputs": [
    {
     "name": "stdout",
     "output_type": "stream",
     "text": [
      "CPU\n"
     ]
    }
   ],
   "source": [
    "variable  = tf.Variable([3,3])\n",
    "if tf.test.is_gpu_available():\n",
    "    print('GPU')\n",
    "    print('GPU #0?')\n",
    "    print(var.device.endswith('GPU:0'))\n",
    "else:\n",
    "    print('CPU')"
   ]
  },
  {
   "cell_type": "markdown",
   "id": "15ef4099",
   "metadata": {},
   "source": [
    "### Tensor Constant"
   ]
  },
  {
   "cell_type": "code",
   "execution_count": 3,
   "id": "911b6a7a",
   "metadata": {},
   "outputs": [
    {
     "data": {
      "text/plain": [
       "<tf.Tensor: id=8, shape=(), dtype=int32, numpy=42>"
      ]
     },
     "execution_count": 3,
     "metadata": {},
     "output_type": "execute_result"
    }
   ],
   "source": [
    "var1 = tf.constant(42)\n",
    "var1"
   ]
  },
  {
   "cell_type": "code",
   "execution_count": 4,
   "id": "e381ee97",
   "metadata": {},
   "outputs": [
    {
     "data": {
      "text/plain": [
       "<tf.Tensor: id=9, shape=(2, 2), dtype=int32, numpy=\n",
       "array([[3, 3],\n",
       "       [9, 5]])>"
      ]
     },
     "execution_count": 4,
     "metadata": {},
     "output_type": "execute_result"
    }
   ],
   "source": [
    "var2 = tf.constant([[3,3], [9,5]])\n",
    "var2"
   ]
  },
  {
   "cell_type": "code",
   "execution_count": 5,
   "id": "7a190b6e",
   "metadata": {},
   "outputs": [
    {
     "data": {
      "text/plain": [
       "<tf.Tensor: id=10, shape=(), dtype=int64, numpy=1>"
      ]
     },
     "execution_count": 5,
     "metadata": {},
     "output_type": "execute_result"
    }
   ],
   "source": [
    "var3 = tf.constant(1, dtype = 'int64')\n",
    "var3"
   ]
  },
  {
   "cell_type": "code",
   "execution_count": 6,
   "id": "ac7ab338",
   "metadata": {},
   "outputs": [
    {
     "data": {
      "text/plain": [
       "<tf.Tensor: id=11, shape=(2, 2), dtype=int64, numpy=\n",
       "array([[4, 5],\n",
       "       [6, 7]], dtype=int64)>"
      ]
     },
     "execution_count": 6,
     "metadata": {},
     "output_type": "execute_result"
    }
   ],
   "source": [
    "var4 = tf.constant([[4,5], [6,7]], dtype = 'int64')\n",
    "var4"
   ]
  },
  {
   "cell_type": "code",
   "execution_count": 7,
   "id": "7061ef3d",
   "metadata": {},
   "outputs": [
    {
     "name": "stdout",
     "output_type": "stream",
     "text": [
      "shape:  (2, 2)\n",
      "<dtype: 'int64'>\n"
     ]
    }
   ],
   "source": [
    "print('shape: ', var4.shape)\n",
    "print(var4.dtype)"
   ]
  },
  {
   "cell_type": "markdown",
   "id": "7bc90d74",
   "metadata": {},
   "source": [
    "#### Commonly used method is to generate constant tf.ones and tf.zeros like of numpy np.ones and np.zeros"
   ]
  },
  {
   "cell_type": "code",
   "execution_count": 8,
   "id": "9d74888a",
   "metadata": {},
   "outputs": [
    {
     "name": "stdout",
     "output_type": "stream",
     "text": [
      "tf.Tensor(\n",
      "[[1. 1. 1.]\n",
      " [1. 1. 1.]], shape=(2, 3), dtype=float32)\n"
     ]
    }
   ],
   "source": [
    "print(tf.ones(shape = (2,3)))"
   ]
  },
  {
   "cell_type": "code",
   "execution_count": 9,
   "id": "1a03d3d6",
   "metadata": {},
   "outputs": [
    {
     "name": "stdout",
     "output_type": "stream",
     "text": [
      "tf.Tensor(\n",
      "[[0. 0.]\n",
      " [0. 0.]\n",
      " [0. 0.]], shape=(3, 2), dtype=float32)\n"
     ]
    }
   ],
   "source": [
    "print(tf.zeros(shape = (3,2)))"
   ]
  },
  {
   "cell_type": "code",
   "execution_count": 10,
   "id": "295d391f",
   "metadata": {},
   "outputs": [
    {
     "name": "stdout",
     "output_type": "stream",
     "text": [
      "<function ones at 0x000001AEFFFCF268>\n"
     ]
    }
   ],
   "source": [
    "print(tf.ones)"
   ]
  },
  {
   "cell_type": "code",
   "execution_count": 11,
   "id": "4292b475",
   "metadata": {},
   "outputs": [
    {
     "name": "stdout",
     "output_type": "stream",
     "text": [
      "<function zeros at 0x000001AEFFFCBBF8>\n"
     ]
    }
   ],
   "source": [
    "print(tf.zeros)"
   ]
  },
  {
   "cell_type": "code",
   "execution_count": 12,
   "id": "2caf73cd",
   "metadata": {},
   "outputs": [
    {
     "data": {
      "text/plain": [
       "<tf.Tensor: id=20, shape=(2, 3), dtype=int32, numpy=\n",
       "array([[ 3,  8, 12],\n",
       "       [ 8, 13, 17]])>"
      ]
     },
     "execution_count": 12,
     "metadata": {},
     "output_type": "execute_result"
    }
   ],
   "source": [
    "import tensorflow as tf\n",
    "cons1 = tf.constant([[2,4,6], [5,6,8]])\n",
    "cons2 = tf.constant([[1,4,6], [3,7,9]])\n",
    "final_cons = tf.add(cons1,cons2)\n",
    "final_cons"
   ]
  },
  {
   "cell_type": "markdown",
   "id": "373c6326",
   "metadata": {},
   "source": [
    "We have defined two constant and we add one value to other. As a result we got a tensor object with the final_cons of adding."
   ]
  },
  {
   "cell_type": "markdown",
   "id": "5e9fc155",
   "metadata": {},
   "source": [
    "### Random Constant"
   ]
  },
  {
   "cell_type": "code",
   "execution_count": 13,
   "id": "685ba682",
   "metadata": {},
   "outputs": [
    {
     "data": {
      "text/plain": [
       "<tf.Tensor: id=26, shape=(2, 3), dtype=float32, numpy=\n",
       "array([[-0.9089832 , -1.5041817 , -0.38031143],\n",
       "       [ 0.89393514,  0.28413263,  1.4952382 ]], dtype=float32)>"
      ]
     },
     "execution_count": 13,
     "metadata": {},
     "output_type": "execute_result"
    }
   ],
   "source": [
    "tf.random.normal(shape = (2,3), mean=0.0, stddev=1.0)"
   ]
  },
  {
   "cell_type": "code",
   "execution_count": 14,
   "id": "f19732a9",
   "metadata": {},
   "outputs": [
    {
     "data": {
      "text/plain": [
       "<tf.Tensor: id=30, shape=(2, 3), dtype=int32, numpy=\n",
       "array([[8, 4, 9],\n",
       "       [0, 8, 4]])>"
      ]
     },
     "execution_count": 14,
     "metadata": {},
     "output_type": "execute_result"
    }
   ],
   "source": [
    "tf.random.uniform(shape = (2,3), minval=0, maxval=10, dtype=tf.int32)"
   ]
  },
  {
   "cell_type": "markdown",
   "id": "adac0bd3",
   "metadata": {},
   "source": [
    "### Declaring Variable"
   ]
  },
  {
   "cell_type": "code",
   "execution_count": 15,
   "id": "28ac095e",
   "metadata": {},
   "outputs": [],
   "source": [
    "var0 = 24 # python Variable\n",
    "var1 = tf.Variable(42) #rank 0 tensor\n",
    "var2 = tf.Variable([[[0.,1.,2.], [3.,4.,5.],[6.,7.,8.], [9.,10.,11.]]]) # rank 3 Tensor"
   ]
  },
  {
   "cell_type": "code",
   "execution_count": 16,
   "id": "c629885c",
   "metadata": {},
   "outputs": [
    {
     "data": {
      "text/plain": [
       "24"
      ]
     },
     "execution_count": 16,
     "metadata": {},
     "output_type": "execute_result"
    }
   ],
   "source": [
    "var0"
   ]
  },
  {
   "cell_type": "code",
   "execution_count": 17,
   "id": "7f1cd1f8",
   "metadata": {},
   "outputs": [
    {
     "data": {
      "text/plain": [
       "<tf.Variable 'Variable:0' shape=() dtype=int32, numpy=42>"
      ]
     },
     "execution_count": 17,
     "metadata": {},
     "output_type": "execute_result"
    }
   ],
   "source": [
    "var1"
   ]
  },
  {
   "cell_type": "code",
   "execution_count": 18,
   "id": "66c6b3e6",
   "metadata": {},
   "outputs": [
    {
     "data": {
      "text/plain": [
       "<tf.Variable 'Variable:0' shape=(1, 4, 3) dtype=float32, numpy=\n",
       "array([[[ 0.,  1.,  2.],\n",
       "        [ 3.,  4.,  5.],\n",
       "        [ 6.,  7.,  8.],\n",
       "        [ 9., 10., 11.]]], dtype=float32)>"
      ]
     },
     "execution_count": 18,
     "metadata": {},
     "output_type": "execute_result"
    }
   ],
   "source": [
    "var2"
   ]
  },
  {
   "cell_type": "markdown",
   "id": "36509e79",
   "metadata": {},
   "source": [
    "TensorFlow will infer the datatype, defaulting to tf.float32 for float and tf.int32 for Integers"
   ]
  },
  {
   "cell_type": "markdown",
   "id": "574e9a96",
   "metadata": {},
   "source": [
    "### The Datatype can be explicitly specified  "
   ]
  },
  {
   "cell_type": "code",
   "execution_count": 19,
   "id": "6bd0efb1",
   "metadata": {},
   "outputs": [
    {
     "data": {
      "text/plain": [
       "tf.float64"
      ]
     },
     "execution_count": 19,
     "metadata": {},
     "output_type": "execute_result"
    }
   ],
   "source": [
    "float_var64 = tf.Variable(89, dtype = tf.float64)\n",
    "float_var64.dtype"
   ]
  },
  {
   "cell_type": "markdown",
   "id": "160ff5c1",
   "metadata": {},
   "source": [
    "### To reassign a value use var.assign()"
   ]
  },
  {
   "cell_type": "code",
   "execution_count": 20,
   "id": "b7a99527",
   "metadata": {},
   "outputs": [
    {
     "data": {
      "text/plain": [
       "<tf.Variable 'Variable:0' shape=() dtype=float32, numpy=98.0>"
      ]
     },
     "execution_count": 20,
     "metadata": {},
     "output_type": "execute_result"
    }
   ],
   "source": [
    "var_reassign = tf.Variable(98.)\n",
    "var_reassign"
   ]
  },
  {
   "cell_type": "code",
   "execution_count": 21,
   "id": "ac7b2f90",
   "metadata": {},
   "outputs": [
    {
     "data": {
      "text/plain": [
       "<tf.Variable 'Variable:0' shape=() dtype=float32, numpy=89.0>"
      ]
     },
     "execution_count": 21,
     "metadata": {},
     "output_type": "execute_result"
    }
   ],
   "source": [
    "var_reassign.assign(89.)\n",
    "var_reassign"
   ]
  },
  {
   "cell_type": "code",
   "execution_count": 22,
   "id": "319adcc7",
   "metadata": {},
   "outputs": [
    {
     "name": "stdout",
     "output_type": "stream",
     "text": [
      "<tf.Variable 'Variable:0' shape=(2, 2) dtype=float32, numpy=\n",
      "array([[-1.0897177 , -0.06252133],\n",
      "       [ 1.2819481 ,  1.7659457 ]], dtype=float32)>\n"
     ]
    }
   ],
   "source": [
    "initial_value = tf.random.normal(shape = (2,2))\n",
    "a = tf.Variable(initial_value)\n",
    "print(a)"
   ]
  },
  {
   "cell_type": "markdown",
   "id": "0babe1da",
   "metadata": {},
   "source": [
    "We can assign \"=\" with assign(value), or assign_add(value) with \"+=\", or assign sub(value) with \"-=\"."
   ]
  },
  {
   "cell_type": "markdown",
   "id": "809b244a",
   "metadata": {},
   "source": [
    "### Shaping Tensor"
   ]
  },
  {
   "cell_type": "code",
   "execution_count": 23,
   "id": "7621f29b",
   "metadata": {},
   "outputs": [
    {
     "data": {
      "text/plain": [
       "TensorShape([2, 2, 3])"
      ]
     },
     "execution_count": 23,
     "metadata": {},
     "output_type": "execute_result"
    }
   ],
   "source": [
    "tensor = tf.Variable([[[1,2,3], [4,5,6]], [[7,8,9], [10,11,12]]])\n",
    "tensor.shape"
   ]
  },
  {
   "cell_type": "markdown",
   "id": "91e66d37",
   "metadata": {},
   "source": [
    "### Tensor Can be Reshaped and Retain the same value which is required for constructing neural network. "
   ]
  },
  {
   "cell_type": "code",
   "execution_count": 24,
   "id": "8096d5fc",
   "metadata": {},
   "outputs": [
    {
     "data": {
      "text/plain": [
       "<tf.Tensor: id=86, shape=(2, 6), dtype=int32, numpy=\n",
       "array([[ 1,  2,  3,  4,  5,  6],\n",
       "       [ 7,  8,  9, 10, 11, 12]])>"
      ]
     },
     "execution_count": 24,
     "metadata": {},
     "output_type": "execute_result"
    }
   ],
   "source": [
    "tensor1 = tf.reshape(tensor, [2,6])# 2 Row and 6 Column\n",
    "tensor1"
   ]
  },
  {
   "cell_type": "code",
   "execution_count": 25,
   "id": "17719c57",
   "metadata": {},
   "outputs": [
    {
     "data": {
      "text/plain": [
       "<tf.Tensor: id=89, shape=(1, 12), dtype=int32, numpy=array([[ 1,  2,  3,  4,  5,  6,  7,  8,  9, 10, 11, 12]])>"
      ]
     },
     "execution_count": 25,
     "metadata": {},
     "output_type": "execute_result"
    }
   ],
   "source": [
    "tensor2 = tf.reshape(tensor, [1,12])# 1 Row and 12 column\n",
    "tensor2"
   ]
  },
  {
   "cell_type": "markdown",
   "id": "6509b67e",
   "metadata": {},
   "source": [
    "### Rank Of Tensor"
   ]
  },
  {
   "cell_type": "markdown",
   "id": "7c789439",
   "metadata": {},
   "source": [
    "The Rank Of Tensor is defined as the dimensions, which is number of indices which is required to specify any particular element of that tensor."
   ]
  },
  {
   "cell_type": "code",
   "execution_count": 26,
   "id": "534993fd",
   "metadata": {},
   "outputs": [
    {
     "data": {
      "text/plain": [
       "<tf.Tensor: id=91, shape=(), dtype=int32, numpy=3>"
      ]
     },
     "execution_count": 26,
     "metadata": {},
     "output_type": "execute_result"
    }
   ],
   "source": [
    "tf.rank(tensor)"
   ]
  },
  {
   "cell_type": "markdown",
   "id": "90d05037",
   "metadata": {},
   "source": [
    "The shape is () because the output here is scaler value."
   ]
  },
  {
   "cell_type": "markdown",
   "id": "0a3772d6",
   "metadata": {},
   "source": [
    "### Specifying the element of tensor"
   ]
  },
  {
   "cell_type": "code",
   "execution_count": 27,
   "id": "14f1914d",
   "metadata": {},
   "outputs": [
    {
     "data": {
      "text/plain": [
       "<tf.Variable 'Variable:0' shape=(2, 2, 3) dtype=int32, numpy=\n",
       "array([[[ 1,  2,  3],\n",
       "        [ 4,  5,  6]],\n",
       "\n",
       "       [[ 7,  8,  9],\n",
       "        [10, 11, 12]]])>"
      ]
     },
     "execution_count": 27,
     "metadata": {},
     "output_type": "execute_result"
    }
   ],
   "source": [
    "tensor"
   ]
  },
  {
   "cell_type": "code",
   "execution_count": 28,
   "id": "78b27df0",
   "metadata": {},
   "outputs": [
    {
     "data": {
      "text/plain": [
       "<tf.Tensor: id=97, shape=(), dtype=int32, numpy=5>"
      ]
     },
     "execution_count": 28,
     "metadata": {},
     "output_type": "execute_result"
    }
   ],
   "source": [
    "tensor3 = tensor[0,1,1]# slice 0, row 0, and column 1\n",
    "tensor3"
   ]
  },
  {
   "cell_type": "code",
   "execution_count": 29,
   "id": "a8e3247d",
   "metadata": {},
   "outputs": [
    {
     "name": "stdout",
     "output_type": "stream",
     "text": [
      "5\n"
     ]
    }
   ],
   "source": [
    "print(tensor3.numpy())"
   ]
  },
  {
   "cell_type": "markdown",
   "id": "d048dfcb",
   "metadata": {},
   "source": [
    "### Casting a variable to Numpy variable"
   ]
  },
  {
   "cell_type": "code",
   "execution_count": 30,
   "id": "ac50baeb",
   "metadata": {},
   "outputs": [
    {
     "name": "stdout",
     "output_type": "stream",
     "text": [
      "[[[ 1  2  3]\n",
      "  [ 4  5  6]]\n",
      "\n",
      " [[ 7  8  9]\n",
      "  [10 11 12]]]\n"
     ]
    }
   ],
   "source": [
    "print(tensor.numpy())"
   ]
  },
  {
   "cell_type": "code",
   "execution_count": 31,
   "id": "13537e4e",
   "metadata": {},
   "outputs": [
    {
     "name": "stdout",
     "output_type": "stream",
     "text": [
      "5\n"
     ]
    }
   ],
   "source": [
    "print(tensor3.numpy())"
   ]
  },
  {
   "cell_type": "markdown",
   "id": "35f6bd64",
   "metadata": {},
   "source": [
    "### Finding the size and length of the tensor"
   ]
  },
  {
   "cell_type": "code",
   "execution_count": 32,
   "id": "d5258011",
   "metadata": {},
   "outputs": [
    {
     "data": {
      "text/plain": [
       "12"
      ]
     },
     "execution_count": 32,
     "metadata": {},
     "output_type": "execute_result"
    }
   ],
   "source": [
    "tensor_size = tf.size(input = tensor).numpy()\n",
    "tensor_size"
   ]
  },
  {
   "cell_type": "code",
   "execution_count": 33,
   "id": "b6a757f4",
   "metadata": {},
   "outputs": [
    {
     "data": {
      "text/plain": [
       "dtype('int32')"
      ]
     },
     "execution_count": 33,
     "metadata": {},
     "output_type": "execute_result"
    }
   ],
   "source": [
    "tensor_size.dtype"
   ]
  },
  {
   "cell_type": "markdown",
   "id": "c2cda5f2",
   "metadata": {},
   "source": [
    "### Tensorflow Mathmatical Operation"
   ]
  },
  {
   "cell_type": "markdown",
   "id": "f85fef62",
   "metadata": {},
   "source": [
    "can be used as numpy for artificial operation. Tensor flow can not execute these operation on the GPU or TPU."
   ]
  },
  {
   "cell_type": "code",
   "execution_count": 34,
   "id": "ce05c12b",
   "metadata": {},
   "outputs": [
    {
     "name": "stdout",
     "output_type": "stream",
     "text": [
      "tf.Tensor(\n",
      "[[-0.5670554  -1.2005589 ]\n",
      " [-0.46201634 -0.03193014]], shape=(2, 2), dtype=float32)\n",
      "tf.Tensor(\n",
      "[[-0.51944333 -0.6488079 ]\n",
      " [ 0.3889383  -1.6224097 ]], shape=(2, 2), dtype=float32)\n",
      "tf.Tensor(\n",
      "[[-1.0864987  -1.8493668 ]\n",
      " [-0.07307804 -1.6543398 ]], shape=(2, 2), dtype=float32)\n",
      "tf.Tensor(\n",
      "[[1.1804795 3.4201574]\n",
      " [0.0053404 2.7368402]], shape=(2, 2), dtype=float32)\n",
      "tf.Tensor(\n",
      "[[0.33739573 0.15733676]\n",
      " [0.9295282  0.19121827]], shape=(2, 2), dtype=float32)\n"
     ]
    }
   ],
   "source": [
    "a = tf.random.normal(shape = (2,2))\n",
    "b = tf.random.normal(shape = (2,2))\n",
    "c = a+b\n",
    "d = tf.square(c)\n",
    "e = tf.exp(c)\n",
    "print(a)\n",
    "print(b)\n",
    "print(c)\n",
    "print(d)\n",
    "print(e)"
   ]
  },
  {
   "cell_type": "markdown",
   "id": "f8f1cda6",
   "metadata": {},
   "source": [
    "### Performing Element Wise Primitive Tensor Operation"
   ]
  },
  {
   "cell_type": "code",
   "execution_count": 35,
   "id": "79a387cf",
   "metadata": {},
   "outputs": [
    {
     "data": {
      "text/plain": [
       "<tf.Tensor: id=118, shape=(2, 2, 3), dtype=int32, numpy=\n",
       "array([[[  1,   4,   9],\n",
       "        [ 16,  25,  36]],\n",
       "\n",
       "       [[ 49,  64,  81],\n",
       "        [100, 121, 144]]])>"
      ]
     },
     "execution_count": 35,
     "metadata": {},
     "output_type": "execute_result"
    }
   ],
   "source": [
    "tensor*tensor"
   ]
  },
  {
   "cell_type": "markdown",
   "id": "fead6dda",
   "metadata": {},
   "source": [
    "### Broadcasting In TesnorFlow"
   ]
  },
  {
   "cell_type": "markdown",
   "id": "9eefe5f7",
   "metadata": {},
   "source": [
    "Element-Wise tensor operations support broadcasting in the same way that Numpy array do.\n",
    "\n",
    "The Simplest Example is Multiplication of tensor by a scaler value."
   ]
  },
  {
   "cell_type": "code",
   "execution_count": 36,
   "id": "85afae6f",
   "metadata": {},
   "outputs": [
    {
     "name": "stdout",
     "output_type": "stream",
     "text": [
      "tf.Tensor(\n",
      "[[[ 4  8 12]\n",
      "  [16 20 24]]\n",
      "\n",
      " [[28 32 36]\n",
      "  [40 44 48]]], shape=(2, 2, 3), dtype=int32)\n"
     ]
    }
   ],
   "source": [
    "tensor4 = tensor*4\n",
    "print(tensor4)"
   ]
  },
  {
   "cell_type": "markdown",
   "id": "7663cfac",
   "metadata": {},
   "source": [
    "### Transpose Matrix Multiplication "
   ]
  },
  {
   "cell_type": "code",
   "execution_count": 37,
   "id": "77504981",
   "metadata": {},
   "outputs": [
    {
     "data": {
      "text/plain": [
       "<tf.Tensor: id=126, shape=(1, 1), dtype=int32, numpy=array([[64]])>"
      ]
     },
     "execution_count": 37,
     "metadata": {},
     "output_type": "execute_result"
    }
   ],
   "source": [
    "matrix_u = tf.constant([[6,7,6]])\n",
    "matrix_v = tf.constant([[3,4,3]])\n",
    "tf.matmul(matrix_u, tf.transpose(a = matrix_v))\n"
   ]
  },
  {
   "cell_type": "markdown",
   "id": "63557e2e",
   "metadata": {},
   "source": [
    "### Casting a tensor to another datatype"
   ]
  },
  {
   "cell_type": "code",
   "execution_count": 38,
   "id": "ee54ee3c",
   "metadata": {},
   "outputs": [
    {
     "data": {
      "text/plain": [
       "<tf.Variable 'Variable:0' shape=(2, 2, 3) dtype=int32, numpy=\n",
       "array([[[ 1,  2,  3],\n",
       "        [ 4,  5,  6]],\n",
       "\n",
       "       [[ 7,  8,  9],\n",
       "        [10, 11, 12]]])>"
      ]
     },
     "execution_count": 38,
     "metadata": {},
     "output_type": "execute_result"
    }
   ],
   "source": [
    "i = tf.cast(tensor, dtype=tf.int32)\n",
    "i"
   ]
  },
  {
   "cell_type": "markdown",
   "id": "f4f93f30",
   "metadata": {},
   "source": [
    "### Casting with truncation "
   ]
  },
  {
   "cell_type": "code",
   "execution_count": 39,
   "id": "5f4fe48e",
   "metadata": {},
   "outputs": [
    {
     "data": {
      "text/plain": [
       "<tf.Tensor: id=129, shape=(), dtype=int32, numpy=4>"
      ]
     },
     "execution_count": 39,
     "metadata": {},
     "output_type": "execute_result"
    }
   ],
   "source": [
    "j = tf.cast(tf.constant(4.9), dtype = tf.int32)\n",
    "j"
   ]
  },
  {
   "cell_type": "markdown",
   "id": "bc26031d",
   "metadata": {},
   "source": [
    "### Ragged Tensor"
   ]
  },
  {
   "cell_type": "markdown",
   "id": "7f1d9c88",
   "metadata": {},
   "source": [
    "#### Below Example Shows how to declare a constant Ragged array"
   ]
  },
  {
   "cell_type": "code",
   "execution_count": 40,
   "id": "9f65bd18",
   "metadata": {},
   "outputs": [
    {
     "name": "stdout",
     "output_type": "stream",
     "text": [
      "<tf.RaggedTensor [[5, 6, 7, 8], [], [4, 5, 6], [6, 7]]>\n",
      "tf.Tensor([5 6 7 8], shape=(4,), dtype=int32)\n",
      "tf.Tensor([], shape=(0,), dtype=int32)\n",
      "tf.Tensor([4 5 6], shape=(3,), dtype=int32)\n",
      "tf.Tensor([6 7], shape=(2,), dtype=int32)\n"
     ]
    }
   ],
   "source": [
    "ragged = tf.ragged.constant([[5,6,7,8], [], [4,5,6], [6,7]])\n",
    "print(ragged)\n",
    "print(ragged[0,:])\n",
    "print(ragged[1,:])\n",
    "print(ragged[2,:])\n",
    "print(ragged[3,:])"
   ]
  },
  {
   "cell_type": "markdown",
   "id": "6d82ef7a",
   "metadata": {},
   "source": [
    "### Squared Difference of tensor"
   ]
  },
  {
   "cell_type": "code",
   "execution_count": 41,
   "id": "1709319e",
   "metadata": {},
   "outputs": [
    {
     "data": {
      "text/plain": [
       "<tf.Tensor: id=234, shape=(4,), dtype=int32, numpy=array([16,  9,  4,  1])>"
      ]
     },
     "execution_count": 41,
     "metadata": {},
     "output_type": "execute_result"
    }
   ],
   "source": [
    "varx = [4,5,6,7]\n",
    "vary = 8\n",
    "varz = tf.math.squared_difference(varx, vary)\n",
    "varz"
   ]
  },
  {
   "cell_type": "markdown",
   "id": "f82c7eeb",
   "metadata": {},
   "source": [
    "### Calculate The Mean"
   ]
  },
  {
   "cell_type": "markdown",
   "id": "33501296",
   "metadata": {},
   "source": [
    "Function Available tf.reduce_mean()"
   ]
  },
  {
   "cell_type": "markdown",
   "id": "73daa71d",
   "metadata": {},
   "source": [
    "Similar to np.mean except that it infers the return datatype from the input tensor, wheares np.mean allow you to specify the output type."
   ]
  },
  {
   "cell_type": "markdown",
   "id": "71bf5242",
   "metadata": {},
   "source": [
    "tf.reduce_mean(input_tensor, axis = None, keepdims = None, name = None)"
   ]
  },
  {
   "cell_type": "code",
   "execution_count": 42,
   "id": "a68c5236",
   "metadata": {},
   "outputs": [],
   "source": [
    "# Defining a constant\n",
    "numbers = tf.constant([[8., 9.], [1.,2.]])"
   ]
  },
  {
   "cell_type": "markdown",
   "id": "f2722ea6",
   "metadata": {},
   "source": [
    "### Calculate The Mean Across All Axes"
   ]
  },
  {
   "cell_type": "code",
   "execution_count": 43,
   "id": "4a41ad32",
   "metadata": {},
   "outputs": [
    {
     "data": {
      "text/plain": [
       "<tf.Tensor: id=237, shape=(), dtype=float32, numpy=5.0>"
      ]
     },
     "execution_count": 43,
     "metadata": {},
     "output_type": "execute_result"
    }
   ],
   "source": [
    "tf.reduce_mean(input_tensor = numbers)# Default axis = None"
   ]
  },
  {
   "cell_type": "markdown",
   "id": "00124743",
   "metadata": {},
   "source": [
    "### Calculate The Mean Across Column (Reduce Row) With This:\n"
   ]
  },
  {
   "cell_type": "code",
   "execution_count": 44,
   "id": "1c4b35be",
   "metadata": {},
   "outputs": [
    {
     "data": {
      "text/plain": [
       "<tf.Tensor: id=239, shape=(2,), dtype=float32, numpy=array([4.5, 5.5], dtype=float32)>"
      ]
     },
     "execution_count": 44,
     "metadata": {},
     "output_type": "execute_result"
    }
   ],
   "source": [
    "tf.reduce_mean(input_tensor = numbers, axis = 0)"
   ]
  },
  {
   "cell_type": "markdown",
   "id": "45ae2b7a",
   "metadata": {},
   "source": [
    "### When KeepDims = True "
   ]
  },
  {
   "cell_type": "code",
   "execution_count": 45,
   "id": "9e280c56",
   "metadata": {},
   "outputs": [
    {
     "data": {
      "text/plain": [
       "<tf.Tensor: id=241, shape=(1, 2), dtype=float32, numpy=array([[4.5, 5.5]], dtype=float32)>"
      ]
     },
     "execution_count": 45,
     "metadata": {},
     "output_type": "execute_result"
    }
   ],
   "source": [
    "tf.reduce_mean(input_tensor = numbers, axis = 0, keepdims=True)# The Reduce Axis is Retained with a length of 1"
   ]
  },
  {
   "cell_type": "markdown",
   "id": "845e99b5",
   "metadata": {},
   "source": [
    "### Calculate The Mean Across The Row (Reduce Column) With This:\n"
   ]
  },
  {
   "cell_type": "code",
   "execution_count": 46,
   "id": "eb02f39f",
   "metadata": {},
   "outputs": [
    {
     "data": {
      "text/plain": [
       "<tf.Tensor: id=235, shape=(2, 2), dtype=float32, numpy=\n",
       "array([[8., 9.],\n",
       "       [1., 2.]], dtype=float32)>"
      ]
     },
     "execution_count": 46,
     "metadata": {},
     "output_type": "execute_result"
    }
   ],
   "source": [
    "numbers"
   ]
  },
  {
   "cell_type": "code",
   "execution_count": 47,
   "id": "937319ad",
   "metadata": {},
   "outputs": [
    {
     "data": {
      "text/plain": [
       "<tf.Tensor: id=243, shape=(2,), dtype=float32, numpy=array([8.5, 1.5], dtype=float32)>"
      ]
     },
     "execution_count": 47,
     "metadata": {},
     "output_type": "execute_result"
    }
   ],
   "source": [
    "tf.reduce_mean(input_tensor = numbers, axis = 1)"
   ]
  },
  {
   "cell_type": "markdown",
   "id": "30f3c5bf",
   "metadata": {},
   "source": [
    "### When Keepdims = True "
   ]
  },
  {
   "cell_type": "code",
   "execution_count": 48,
   "id": "0470c718",
   "metadata": {},
   "outputs": [
    {
     "data": {
      "text/plain": [
       "<tf.Tensor: id=245, shape=(2, 1), dtype=float32, numpy=\n",
       "array([[8.5],\n",
       "       [1.5]], dtype=float32)>"
      ]
     },
     "execution_count": 48,
     "metadata": {},
     "output_type": "execute_result"
    }
   ],
   "source": [
    "tf.reduce_mean(input_tensor = numbers, axis = 1, keepdims=True)"
   ]
  },
  {
   "cell_type": "markdown",
   "id": "33e55651",
   "metadata": {},
   "source": [
    "### Random Value Generation"
   ]
  },
  {
   "cell_type": "markdown",
   "id": "8cf47041",
   "metadata": {},
   "source": [
    "#### tf.random.normal()"
   ]
  },
  {
   "cell_type": "markdown",
   "id": "f170d249",
   "metadata": {},
   "source": [
    "tf.random.normal() Output a tensor of the given shape filled with the value of the dtype type from the normal distribution"
   ]
  },
  {
   "cell_type": "markdown",
   "id": "324b3d38",
   "metadata": {},
   "source": [
    "The Function is as Follow():"
   ]
  },
  {
   "cell_type": "markdown",
   "id": "bb75ded3",
   "metadata": {},
   "source": [
    "tf.random.normal(shape, mean = 0, stdev = 2, dtype = tf.float32, seed = None, name = None)"
   ]
  },
  {
   "cell_type": "code",
   "execution_count": 49,
   "id": "4cc785ca",
   "metadata": {},
   "outputs": [
    {
     "name": "stdout",
     "output_type": "stream",
     "text": [
      "tf.Tensor(\n",
      "[[ 6.5448337  8.585887 ]\n",
      " [ 8.236637   9.513138 ]\n",
      " [12.824016   9.403917 ]], shape=(3, 2), dtype=float32)\n"
     ]
    }
   ],
   "source": [
    "random_number = tf.random.normal(shape = (3,2), mean = 10, stddev=2)\n",
    "print(random_number)"
   ]
  },
  {
   "cell_type": "markdown",
   "id": "bdd8f85d",
   "metadata": {},
   "source": [
    "### tf.random.uniform()"
   ]
  },
  {
   "cell_type": "markdown",
   "id": "ee7a4a3f",
   "metadata": {},
   "source": [
    "The Function is This:"
   ]
  },
  {
   "cell_type": "markdown",
   "id": "6442b617",
   "metadata": {},
   "source": [
    "tf.random.uniform(shape, minval = 0, maxval = None, dtype = tf.float32, seed = None, name = None)"
   ]
  },
  {
   "cell_type": "markdown",
   "id": "00f098c5",
   "metadata": {},
   "source": [
    "This Output a tensor of the given shape filled with the value of the uniform distribution in the range minval to maxval, where the lower bound is inclusive but the upper bound is not."
   ]
  },
  {
   "cell_type": "code",
   "execution_count": 50,
   "id": "8e87a1e3",
   "metadata": {},
   "outputs": [
    {
     "data": {
      "text/plain": [
       "<tf.Tensor: id=258, shape=(3, 3), dtype=float32, numpy=\n",
       "array([[0.7620784 , 0.3422798 , 0.6051345 ],\n",
       "       [0.96256995, 0.96575034, 0.55610645],\n",
       "       [0.61223674, 0.04074502, 0.83708835]], dtype=float32)>"
      ]
     },
     "execution_count": 50,
     "metadata": {},
     "output_type": "execute_result"
    }
   ],
   "source": [
    "tf.random.uniform(shape = (3,3), minval = 0, maxval = None, seed = None, name = None)"
   ]
  },
  {
   "cell_type": "markdown",
   "id": "d8e0215f",
   "metadata": {},
   "source": [
    "### Setting The Seed "
   ]
  },
  {
   "cell_type": "code",
   "execution_count": 51,
   "id": "b5d04c5a",
   "metadata": {},
   "outputs": [
    {
     "name": "stdout",
     "output_type": "stream",
     "text": [
      "tf.Tensor(\n",
      "[[5 8]\n",
      " [6 5]], shape=(2, 2), dtype=int32)\n",
      "tf.Tensor(\n",
      "[[8 5 9]\n",
      " [6 9 8]\n",
      " [7 9 9]], shape=(3, 3), dtype=int32)\n"
     ]
    }
   ],
   "source": [
    "tf.random.set_seed(10)\n",
    "random1 = tf.random.uniform(shape = (2,2), minval = 5, maxval = 10, dtype = tf.int32)\n",
    "random2 = tf.random.uniform(shape = (3,3), minval = 5, maxval = 10, dtype = tf.int32)\n",
    "print(random1)\n",
    "print(random2)"
   ]
  },
  {
   "cell_type": "code",
   "execution_count": 52,
   "id": "652d1f08",
   "metadata": {},
   "outputs": [
    {
     "name": "stdout",
     "output_type": "stream",
     "text": [
      "tf.Tensor(\n",
      "[[5 8]\n",
      " [6 5]], shape=(2, 2), dtype=int32)\n",
      "tf.Tensor(\n",
      "[[8 5 9]\n",
      " [6 9 8]\n",
      " [7 9 9]], shape=(3, 3), dtype=int32)\n"
     ]
    }
   ],
   "source": [
    "tf.random.set_seed(10)\n",
    "random1 = tf.random.uniform(shape = (2,2), minval = 5, maxval = 10, dtype = tf.int32)\n",
    "random2 = tf.random.uniform(shape = (3,3), minval = 5, maxval = 10, dtype = tf.int32)\n",
    "print(random1)\n",
    "print(random2)"
   ]
  },
  {
   "cell_type": "markdown",
   "id": "bcf63ac9",
   "metadata": {},
   "source": [
    "### Practical Example Of Random Values Using Dices "
   ]
  },
  {
   "cell_type": "code",
   "execution_count": 53,
   "id": "eb866615",
   "metadata": {},
   "outputs": [
    {
     "name": "stdout",
     "output_type": "stream",
     "text": [
      "tf.Tensor(\n",
      "[[ 2  2  4]\n",
      " [ 5  5 10]\n",
      " [ 3  5  8]\n",
      " [ 5  2  7]\n",
      " [ 1  6  7]\n",
      " [ 5  6 11]\n",
      " [ 5  4  9]\n",
      " [ 1  3  4]\n",
      " [ 5  2  7]\n",
      " [ 3  3  6]], shape=(10, 3), dtype=int32)\n"
     ]
    }
   ],
   "source": [
    "dice11 = tf.Variable(tf.random.uniform([10,1], minval = 1, maxval = 7, dtype = tf.int32))\n",
    "dice12 = tf.Variable(tf.random.uniform([10,1], minval = 1, maxval = 7, dtype = tf.int32))\n",
    "\n",
    "# Let's Add\n",
    "dice_sum = dice11+dice12\n",
    "# We got three seperate (10*1) matrixs. To produce single 10x3 matrix, we'll concattenate them along dimesion 1.\n",
    "final_matrix = tf.concat(values = [dice11, dice12, dice_sum], axis = 1)\n",
    "print(final_matrix)"
   ]
  },
  {
   "cell_type": "markdown",
   "id": "8c518104",
   "metadata": {},
   "source": [
    "### Finding The indices of the largest and smalest element"
   ]
  },
  {
   "cell_type": "markdown",
   "id": "2c16f23c",
   "metadata": {},
   "source": [
    "The Following Function are available:\n",
    "\n",
    "tf.argmax(input, axis = None, name = None, Output_type = tf.int64)\n",
    "\n",
    "tf.argmin(input, axis = None, name = None, Output_type = tf.int64)"
   ]
  },
  {
   "cell_type": "code",
   "execution_count": 54,
   "id": "cd74526f",
   "metadata": {},
   "outputs": [
    {
     "name": "stdout",
     "output_type": "stream",
     "text": [
      "tf.Tensor([12 13 14 15  4  5  7  8], shape=(8,), dtype=int32)\n",
      "index of max:  tf.Tensor(3, shape=(), dtype=int64)\n",
      "Max Element:  15\n",
      "index Of Min:  tf.Tensor(4, shape=(), dtype=int64)\n",
      "Min Element:  4\n"
     ]
    }
   ],
   "source": [
    "#1-d Tensor\n",
    "tensor_1 = tf.constant([12,13,14,15,4,5,7,8])\n",
    "print(tensor_1)\n",
    "\n",
    "i = tf.argmax(input = tensor_1)\n",
    "print('index of max: ', i)\n",
    "print('Max Element: ', tensor_1[i].numpy())\n",
    "\n",
    "i = tf.argmin(input = tensor_1)\n",
    "print('index Of Min: ', i)\n",
    "print('Min Element: ', tensor_1[i].numpy())\n"
   ]
  },
  {
   "cell_type": "markdown",
   "id": "3b45359a",
   "metadata": {},
   "source": [
    "### Saving and Restoring Using a checkpoint"
   ]
  },
  {
   "cell_type": "code",
   "execution_count": 55,
   "id": "d9e1619d",
   "metadata": {},
   "outputs": [
    {
     "ename": "NameError",
     "evalue": "name 'variable_1' is not defined",
     "output_type": "error",
     "traceback": [
      "\u001b[1;31m---------------------------------------------------------------------------\u001b[0m",
      "\u001b[1;31mNameError\u001b[0m                                 Traceback (most recent call last)",
      "\u001b[1;32m<ipython-input-55-2e770352b0c0>\u001b[0m in \u001b[0;36m<module>\u001b[1;34m\u001b[0m\n\u001b[1;32m----> 1\u001b[1;33m \u001b[0mvariable_1\u001b[0m \u001b[1;33m=\u001b[0m \u001b[0mtf\u001b[0m\u001b[1;33m.\u001b[0m\u001b[0mVariable\u001b[0m\u001b[1;33m(\u001b[0m\u001b[1;33m[\u001b[0m\u001b[0mvariable_1\u001b[0m\u001b[1;33m.\u001b[0m\u001b[0massign\u001b[0m\u001b[1;33m(\u001b[0m\u001b[1;33m[\u001b[0m\u001b[1;33m[\u001b[0m\u001b[1;36m0\u001b[0m\u001b[1;33m,\u001b[0m\u001b[1;36m0\u001b[0m\u001b[1;33m,\u001b[0m\u001b[1;36m0\u001b[0m\u001b[1;33m,\u001b[0m\u001b[1;36m0\u001b[0m\u001b[1;33m]\u001b[0m\u001b[1;33m,\u001b[0m \u001b[1;33m[\u001b[0m\u001b[1;36m0\u001b[0m\u001b[1;33m,\u001b[0m\u001b[1;36m0\u001b[0m\u001b[1;33m,\u001b[0m\u001b[1;36m0\u001b[0m\u001b[1;33m,\u001b[0m\u001b[1;36m0\u001b[0m\u001b[1;33m]\u001b[0m\u001b[1;33m]\u001b[0m\u001b[1;33m)\u001b[0m\u001b[1;33m]\u001b[0m\u001b[1;33m)\u001b[0m\u001b[1;33m\u001b[0m\u001b[1;33m\u001b[0m\u001b[0m\n\u001b[0m\u001b[0;32m      2\u001b[0m \u001b[0mcheckpoint\u001b[0m\u001b[1;33m.\u001b[0m\u001b[0mrestore\u001b[0m\u001b[1;33m(\u001b[0m\u001b[0msavepath\u001b[0m\u001b[1;33m)\u001b[0m\u001b[1;33m\u001b[0m\u001b[1;33m\u001b[0m\u001b[0m\n\u001b[0;32m      3\u001b[0m \u001b[0mprint\u001b[0m\u001b[1;33m(\u001b[0m\u001b[0mvariable_1\u001b[0m\u001b[1;33m)\u001b[0m\u001b[1;33m\u001b[0m\u001b[1;33m\u001b[0m\u001b[0m\n",
      "\u001b[1;31mNameError\u001b[0m: name 'variable_1' is not defined"
     ]
    }
   ],
   "source": [
    "variable_1 = tf.Variable([variable_1.assign([[0,0,0,0], [0,0,0,0]])])\n",
    "checkpoint.restore(savepath)\n",
    "print(variable_1)"
   ]
  },
  {
   "cell_type": "markdown",
   "id": "e92e302d",
   "metadata": {},
   "source": [
    "### Using tf.function()"
   ]
  },
  {
   "cell_type": "markdown",
   "id": "8e6b9acd",
   "metadata": {},
   "source": [
    "tf.function is a function that will take a python function and return a tensorflow graph. The advatages of this is that graphs can apply optimization and exploit parallelism in the python function(func). tf.function is new in tensorflow 2."
   ]
  },
  {
   "cell_type": "markdown",
   "id": "29e53db5",
   "metadata": {},
   "source": [
    "### This Function is as follow:"
   ]
  },
  {
   "cell_type": "markdown",
   "id": "d7c017e1",
   "metadata": {},
   "source": [
    "tf.function(func = None, input_signature=None, autograph=True, experimental_autograph_options=None)"
   ]
  },
  {
   "cell_type": "code",
   "execution_count": 56,
   "id": "8d45e553",
   "metadata": {},
   "outputs": [],
   "source": [
    "def f1(x,y):\n",
    "    return tf.reduce_mean(input_tensor = tf)"
   ]
  },
  {
   "cell_type": "markdown",
   "id": "95c50182",
   "metadata": {},
   "source": [
    "### Calculate The Gradient"
   ]
  },
  {
   "cell_type": "markdown",
   "id": "8e544991",
   "metadata": {},
   "source": [
    "### Gradient Tape "
   ]
  },
  {
   "cell_type": "markdown",
   "id": "a18cf2c3",
   "metadata": {},
   "source": [
    "Another difference from numpy is that it can automatically track the gradient of any variable.\n",
    "\n",
    "Open One Gradient Tape and Tape.Watch() track variable through"
   ]
  },
  {
   "cell_type": "code",
   "execution_count": 57,
   "id": "9fc9ee93",
   "metadata": {},
   "outputs": [
    {
     "name": "stdout",
     "output_type": "stream",
     "text": [
      "tf.Tensor(\n",
      "[[ 0.7847288  -0.48479903]\n",
      " [ 0.9986899  -0.05840902]], shape=(2, 2), dtype=float32)\n"
     ]
    }
   ],
   "source": [
    "a = tf.random.normal(shape = (2,2))\n",
    "b = tf.random.normal(shape = (2,2))\n",
    "with tf.GradientTape() as tape:\n",
    "    tape.watch(a)\n",
    "    c = tf.sqrt(tf.square(a)+tf.square(b))\n",
    "    dc_da = tape.gradient(c,a)\n",
    "    print(dc_da)"
   ]
  },
  {
   "cell_type": "markdown",
   "id": "c4eaf864",
   "metadata": {},
   "source": [
    "For all variable, the calculation is tracked by default and used to find the gradient, so do not use tape.watch()"
   ]
  },
  {
   "cell_type": "code",
   "execution_count": 58,
   "id": "f2c9c65b",
   "metadata": {},
   "outputs": [
    {
     "name": "stdout",
     "output_type": "stream",
     "text": [
      "tf.Tensor(\n",
      "[[ 0.7847288  -0.48479903]\n",
      " [ 0.9986899  -0.05840902]], shape=(2, 2), dtype=float32)\n"
     ]
    }
   ],
   "source": [
    "a = tf.Variable(a)\n",
    "with tf.GradientTape() as tape:\n",
    "    c = tf.sqrt(tf.square(a)+tf.square(b))\n",
    "    dc_da = tape.gradient(c,a)\n",
    "    print(dc_da)"
   ]
  },
  {
   "cell_type": "markdown",
   "id": "f4f5b67f",
   "metadata": {},
   "source": [
    "### You can gradient tape find higher-order derivatives by opening a few more."
   ]
  },
  {
   "cell_type": "code",
   "execution_count": 62,
   "id": "fb0d6aac",
   "metadata": {},
   "outputs": [
    {
     "name": "stdout",
     "output_type": "stream",
     "text": [
      "tf.Tensor(\n",
      "[[1.7238906e-01 2.3412395e+00]\n",
      " [1.6570091e-03 8.1591243e-01]], shape=(2, 2), dtype=float32)\n"
     ]
    }
   ],
   "source": [
    "with tf.GradientTape() as outer_tape:\n",
    "    with tf.GradientTape() as tape:\n",
    "        c = tf.sqrt(tf.square(a)+tf.square(b))\n",
    "        dc_da = tape.gradient(c,a)\n",
    "        \n",
    "    dcc_dca = outer_tape.gradient(dc_da,a)\n",
    "    print(dcc_dca)"
   ]
  },
  {
   "cell_type": "code",
   "execution_count": null,
   "id": "c9f1b28c",
   "metadata": {},
   "outputs": [],
   "source": []
  }
 ],
 "metadata": {
  "kernelspec": {
   "display_name": "Python 3",
   "language": "python",
   "name": "python3"
  },
  "language_info": {
   "codemirror_mode": {
    "name": "ipython",
    "version": 3
   },
   "file_extension": ".py",
   "mimetype": "text/x-python",
   "name": "python",
   "nbconvert_exporter": "python",
   "pygments_lexer": "ipython3",
   "version": "3.6.13"
  }
 },
 "nbformat": 4,
 "nbformat_minor": 5
}
